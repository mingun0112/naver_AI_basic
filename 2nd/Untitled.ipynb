{
 "cells": [
  {
   "cell_type": "code",
   "execution_count": 1,
   "id": "7124a7c0",
   "metadata": {},
   "outputs": [],
   "source": [
    "import numpy as np\n"
   ]
  },
  {
   "cell_type": "code",
   "execution_count": 2,
   "id": "92fa93d8",
   "metadata": {},
   "outputs": [],
   "source": [
    "test_array=np.array([\"1\",\"4\",5,8],float)\n"
   ]
  },
  {
   "cell_type": "code",
   "execution_count": 3,
   "id": "6aa29198",
   "metadata": {},
   "outputs": [
    {
     "data": {
      "text/plain": [
       "array([1., 4., 5., 8.])"
      ]
     },
     "execution_count": 3,
     "metadata": {},
     "output_type": "execute_result"
    }
   ],
   "source": [
    "test_array"
   ]
  },
  {
   "cell_type": "code",
   "execution_count": 4,
   "id": "4b974d15",
   "metadata": {},
   "outputs": [
    {
     "data": {
      "text/plain": [
       "numpy.float64"
      ]
     },
     "execution_count": 4,
     "metadata": {},
     "output_type": "execute_result"
    }
   ],
   "source": [
    "type(test_array[0])"
   ]
  },
  {
   "cell_type": "code",
   "execution_count": 5,
   "id": "baa35fc7",
   "metadata": {},
   "outputs": [
    {
     "data": {
      "text/plain": [
       "array([[ 1.,  4.,  5.,  6.],\n",
       "       [11., 22.,  3.,  4.],\n",
       "       [ 1.,  2.,  4.,  5.]], dtype=float32)"
      ]
     },
     "execution_count": 5,
     "metadata": {},
     "output_type": "execute_result"
    }
   ],
   "source": [
    "np.array([[1,4,5,6],[11,22,3,4,],[1,2,4,5]],np.float32)\n"
   ]
  },
  {
   "cell_type": "code",
   "execution_count": 7,
   "id": "f08048ba",
   "metadata": {},
   "outputs": [
    {
     "data": {
      "text/plain": [
       "(4,)"
      ]
     },
     "execution_count": 7,
     "metadata": {},
     "output_type": "execute_result"
    }
   ],
   "source": [
    "test_array.shape"
   ]
  },
  {
   "cell_type": "code",
   "execution_count": 29,
   "id": "8624a672",
   "metadata": {},
   "outputs": [
    {
     "name": "stdout",
     "output_type": "stream",
     "text": [
      "[[[1 2 5 8]\n",
      "  [1 2 5 8]\n",
      "  [1 2 5 8]]\n",
      "\n",
      " [[1 2 5 8]\n",
      "  [1 2 5 8]\n",
      "  [1 2 5 8]]]\n"
     ]
    },
    {
     "data": {
      "text/plain": [
       "3"
      ]
     },
     "execution_count": 29,
     "metadata": {},
     "output_type": "execute_result"
    }
   ],
   "source": [
    "matrix  = [[[1,2,5,8],[1,2,5,8],[1,2,5,8]],\n",
    "          [[1,2,5,8],[1,2,5,8],[1,2,5,8]]]\n",
    "matrix\n",
    "t=np.array(matrix,int)\n",
    "print(t)\n",
    "t.shape\n",
    "t.ndim"
   ]
  },
  {
   "cell_type": "code",
   "execution_count": 41,
   "id": "92f23132",
   "metadata": {},
   "outputs": [
    {
     "name": "stdout",
     "output_type": "stream",
     "text": [
      "(5, 6, 4)\n",
      "[[[1 2 5 8]\n",
      "  [1 2 5 8]\n",
      "  [1 2 5 8]\n",
      "  [1 2 5 8]\n",
      "  [1 2 5 8]\n",
      "  [1 2 5 8]]\n",
      "\n",
      " [[2 2 5 8]\n",
      "  [1 2 5 8]\n",
      "  [1 2 5 8]\n",
      "  [1 2 5 8]\n",
      "  [1 2 5 8]\n",
      "  [1 2 5 8]]\n",
      "\n",
      " [[3 2 5 8]\n",
      "  [1 2 5 8]\n",
      "  [1 2 5 8]\n",
      "  [1 2 5 8]\n",
      "  [1 2 5 8]\n",
      "  [1 2 5 8]]\n",
      "\n",
      " [[4 2 5 8]\n",
      "  [1 2 5 8]\n",
      "  [1 2 5 8]\n",
      "  [1 2 5 8]\n",
      "  [1 2 5 8]\n",
      "  [1 2 5 8]]\n",
      "\n",
      " [[4 2 5 8]\n",
      "  [1 2 5 8]\n",
      "  [1 2 5 8]\n",
      "  [1 2 5 8]\n",
      "  [1 2 5 8]\n",
      "  [1 2 5 8]]]\n"
     ]
    }
   ],
   "source": [
    "tensor  = [[[1,2,5,8],[1,2,5,8],[1,2,5,8],[1,2,5,8],[1,2,5,8],[1,2,5,8]], \n",
    "           [[2,2,5,8],[1,2,5,8],[1,2,5,8],[1,2,5,8],[1,2,5,8],[1,2,5,8]], \n",
    "           [[3,2,5,8],[1,2,5,8],[1,2,5,8],[1,2,5,8],[1,2,5,8],[1,2,5,8]], \n",
    "           [[4,2,5,8],[1,2,5,8],[1,2,5,8],[1,2,5,8],[1,2,5,8],[1,2,5,8]],\n",
    "          [[4,2,5,8],[1,2,5,8],[1,2,5,8],[1,2,5,8],[1,2,5,8],[1,2,5,8]]]\n",
    "print(np.array(tensor, int).shape)\n",
    "#()\n",
    "tensor=np.array(tensor, int)\n",
    "print(tensor)"
   ]
  },
  {
   "cell_type": "code",
   "execution_count": 42,
   "id": "f3681e96",
   "metadata": {},
   "outputs": [
    {
     "data": {
      "text/plain": [
       "3"
      ]
     },
     "execution_count": 42,
     "metadata": {},
     "output_type": "execute_result"
    }
   ],
   "source": [
    "tensor.ndim"
   ]
  },
  {
   "cell_type": "code",
   "execution_count": 62,
   "id": "c0eb494c",
   "metadata": {},
   "outputs": [
    {
     "name": "stdout",
     "output_type": "stream",
     "text": [
      "[[[1 2 3]\n",
      "  [1 2 3]\n",
      "  [1 2 3]\n",
      "  [1 2 3]]\n",
      "\n",
      " [[1 2 3]\n",
      "  [1 2 3]\n",
      "  [1 2 3]\n",
      "  [1 2 3]]]\n",
      "3\n",
      "(2, 4, 3)\n"
     ]
    }
   ],
   "source": [
    "tensor2=np.array([[[1,2,3],[1,2,3],[1,2,3],[1,2,3]],\n",
    "                  [[1,2,3],[1,2,3],[1,2,3],[1,2,3]]],int)\n",
    "tensor_ndim=tensor2.ndim\n",
    "tensor_shape=tensor2.shape\n",
    "print(tensor2)\n",
    "print(tensor_ndim)\n",
    "print(tensor_shape)#(2,3)\n",
    "#모양과 차원은 다른 의미\n",
    "#(z,y,x)"
   ]
  }
 ],
 "metadata": {
  "kernelspec": {
   "display_name": "Python 3 (ipykernel)",
   "language": "python",
   "name": "python3"
  },
  "language_info": {
   "codemirror_mode": {
    "name": "ipython",
    "version": 3
   },
   "file_extension": ".py",
   "mimetype": "text/x-python",
   "name": "python",
   "nbconvert_exporter": "python",
   "pygments_lexer": "ipython3",
   "version": "3.8.12"
  }
 },
 "nbformat": 4,
 "nbformat_minor": 5
}
