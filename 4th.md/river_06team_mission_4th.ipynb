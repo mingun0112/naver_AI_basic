{
  "cells": [
    {
      "cell_type": "markdown",
      "metadata": {
        "id": "view-in-github",
        "colab_type": "text"
      },
      "source": [
        "<a href=\"https://colab.research.google.com/github/mingun0112/naver_AI_basic/blob/main/4th.md/river_06team_mission_4th.ipynb\" target=\"_parent\"><img src=\"https://colab.research.google.com/assets/colab-badge.svg\" alt=\"Open In Colab\"/></a>"
      ]
    },
    {
      "cell_type": "code",
      "execution_count": null,
      "metadata": {
        "id": "V78DueO7rywJ"
      },
      "outputs": [],
      "source": [
        "import pandas as pd "
      ]
    },
    {
      "cell_type": "code",
      "execution_count": null,
      "metadata": {
        "colab": {
          "base_uri": "https://localhost:8080/"
        },
        "id": "NNK7770wfsB3",
        "outputId": "7359357b-dd7b-4114-826e-462a9ab0ed3c"
      },
      "outputs": [
        {
          "name": "stdout",
          "output_type": "stream",
          "text": [
            "HDD    19\n",
            "SSD    11\n",
            "dtype: int64\n"
          ]
        }
      ],
      "source": [
        "idx =[\"HDD\", \"SSD\", \"USB\", \"CLOUD\"]\n",
        "data = [19, 11, 5, 97]\n",
        "\n",
        "series =pd.Series(data=data, index=idx)\n",
        "\n",
        "series=series[(series > 10)&(series<20)]\n",
        "print(series)"
      ]
    },
    {
      "cell_type": "code",
      "execution_count": null,
      "metadata": {
        "colab": {
          "base_uri": "https://localhost:8080/"
        },
        "id": "P0ZX4hMpvcSS",
        "outputId": "1a97812d-8dd9-44de-f68c-5026ba956729"
      },
      "outputs": [
        {
          "name": "stdout",
          "output_type": "stream",
          "text": [
            "Sum of Top 2 Fruit Price :  230\n",
            "Sum of Top 2 Vegitable Price :  150\n"
          ]
        }
      ],
      "source": [
        "df1=pd.DataFrame({'Name':['cherry','mango','potato','onion'],\n",
        "                  'Type':['Fruit','Fruit','Vegitable','Vegitable'],\n",
        "                  'Price':[100,110,60,80]})\n",
        "\n",
        "df2=pd.DataFrame({'Name':['pepper','carrot','banana','kiwi'],\n",
        "                  'Type':['Vegitable','Vegitable','Fruit','Fruit'],\n",
        "                  'Price':[50,70,90,120]})\n",
        "\n",
        "df3= pd.merge(df1,df2,how='outer')\n",
        "\n",
        "df_fruit=df3[df3['Type']=='Fruit'].sort_values(by='Price',ascending=False )\n",
        "df_vegit=df3[df3['Type']=='Vegitable'].sort_values(by='Price',ascending=False )\n",
        "\n",
        "print('Sum of Top 2 Fruit Price : ', df_fruit['Price'][:2].sum())\n",
        "print('Sum of Top 2 Vegitable Price : ', df_vegit['Price'][:2].sum())\n"
      ]
    },
    {
      "cell_type": "code",
      "execution_count": null,
      "metadata": {
        "colab": {
          "base_uri": "https://localhost:8080/"
        },
        "id": "oUd4cHVM6W-X",
        "outputId": "59bea0e1-5374-4534-b565-068d524b8f53"
      },
      "outputs": [
        {
          "name": "stdout",
          "output_type": "stream",
          "text": [
            "      round_1  round_2  round_3  round_4  round_5  round_6\n",
            "Sue        55       65       60       66       57       11\n",
            "Ryan       64       77       71       79       67       15\n",
            "Jay        88       81       79       89       77       13\n",
            "Jane       45       35       30       46       47       17\n",
            "Anna       91       96       90       97       99       19\n",
            "      round_1  round_2  round_3  round_4  round_5  round_6\n",
            "mean     68.6     70.8     66.0     75.4     69.4     15.0\n",
            "max      91.0     96.0     90.0     97.0     99.0     19.0\n",
            "min      45.0     35.0     30.0     46.0     47.0     11.0\n"
          ]
        }
      ],
      "source": [
        "idx = [\"Sue\",\"Ryan\",\"Jay\",\"Jane\",\"Anna\"]\n",
        "col = [\"round_1\", \"round_2\", \"round_3\", \"round_4\",\"round_5\"]\n",
        "data=[[55,65,60,66,57],\n",
        "      [64,77,71,79,67],\n",
        "      [88,81,79,89,77],\n",
        "      [45,35,30,46,47],\n",
        "      [91,96,90,97,99]]\n",
        "\n",
        "df=pd.DataFrame(data=data,index=idx,columns=col)\n",
        "\n",
        "col_round_6 = df.insert(5,value=[11,15,13,17,19],column='round_6')\n",
        "print(df)\n",
        "print(pd.DataFrame(data=[df.mean(),df.max(),df.min()],index=['mean','max','min']))\n"
      ]
    },
    {
      "cell_type": "code",
      "execution_count": null,
      "metadata": {
        "colab": {
          "base_uri": "https://localhost:8080/",
          "height": 265
        },
        "id": "XSISacV8BCNS",
        "outputId": "7aa3ff5d-584a-40cc-a8f6-ab238561805e"
      },
      "outputs": [
        {
          "data": {
            "image/png": "[encoded data removed]",
            "text/plain": [
              "<Figure size 432x288 with 1 Axes>"
            ]
          },
          "metadata": {
            "needs_background": "light"
          },
          "output_type": "display_data"
        }
      ],
      "source": [
        "import matplotlib.pyplot as plt\n",
        "\n",
        "t=np.arange(0., 5., 0.2)\n",
        "\n",
        "plt.plot(t,t,'r--',t,2*t,'gs',t,t*3,'b^')\n",
        "plt.show()\n"
      ]
    },
    {
      "cell_type": "code",
      "execution_count": null,
      "metadata": {
        "colab": {
          "base_uri": "https://localhost:8080/",
          "height": 782
        },
        "id": "qIdbQENXgfgH",
        "outputId": "da051ed0-ac0e-4c7e-9e77-0cbc2892912a"
      },
      "outputs": [
        {
          "data": {
            "text/plain": [
              "<Figure size 648x216 with 0 Axes>"
            ]
          },
          "metadata": {},
          "output_type": "display_data"
        },
        {
          "data": {
            "image/png": "[encoded data removed]",
            "text/plain": [
              "<Figure size 432x288 with 1 Axes>"
            ]
          },
          "metadata": {
            "needs_background": "light"
          },
          "output_type": "display_data"
        },
        {
          "data": {
            "image/png": "[encoded data removed]",
            "text/plain": [
              "<Figure size 432x288 with 1 Axes>"
            ]
          },
          "metadata": {
            "needs_background": "light"
          },
          "output_type": "display_data"
        },
        {
          "data": {
            "image/png": "[encoded data removed]",
            "text/plain": [
              "<Figure size 432x288 with 1 Axes>"
            ]
          },
          "metadata": {
            "needs_background": "light"
          },
          "output_type": "display_data"
        }
      ],
      "source": [
        "names=['group_a','group_b','group_c']\n",
        "values=[1,10,100]\n",
        "\n",
        "plt.figure(figsize=(9,3))\n",
        "\n",
        "plt.show()\n",
        "plt.bar(names, values)\n",
        "plt.show()\n",
        "plt.scatter(names, values)\n",
        "plt.show()\n",
        "plt.plot(names, values)\n",
        "plt.show()"
      ]
    }
  ],
  "metadata": {
    "colab": {
      "name": "river_06team_mission_4th.ipynb",
      "provenance": [],
      "include_colab_link": true
    },
    "kernelspec": {
      "display_name": "Python 3",
      "name": "python3"
    },
    "language_info": {
      "name": "python"
    }
  },
  "nbformat": 4,
  "nbformat_minor": 0
}